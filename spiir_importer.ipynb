{
 "cells": [
  {
   "cell_type": "code",
   "execution_count": 1,
   "id": "196047d4-3bf2-4753-af45-5ecdf967816f",
   "metadata": {},
   "outputs": [],
   "source": [
    "import gspread\n",
    "from gspread_dataframe import set_with_dataframe\n",
    "import os\n",
    "import pandas as pd"
   ]
  },
  {
   "cell_type": "code",
   "execution_count": 2,
   "id": "bde0e28c-b158-487a-ae01-f6c18eda9765",
   "metadata": {},
   "outputs": [],
   "source": [
    "# Make a list of CSV files only\n",
    "csvfiles = [f for f in os.listdir('/home/jovyan/csvfolder/') if f.endswith('.csv')]\n",
    "csvfiles.sort(key=os.path.getctime)"
   ]
  },
  {
   "cell_type": "code",
   "execution_count": 3,
   "id": "497f155b-a8f1-4418-a0af-ebec61e8b6f2",
   "metadata": {},
   "outputs": [
    {
     "name": "stdout",
     "output_type": "stream",
     "text": [
      "Latest csv file: alle-poster-public.csv\n"
     ]
    }
   ],
   "source": [
    "# Select latest file and print the file name\n",
    "latest = csvfiles[-1]\n",
    "print(f'Latest csv file: {latest}')"
   ]
  },
  {
   "cell_type": "code",
   "execution_count": 4,
   "id": "cc7b2925-6b20-4114-a2c3-a6c1a8536a76",
   "metadata": {},
   "outputs": [],
   "source": [
    "# Open data as CSV file\n",
    "data = pd.read_csv(f'/home/jovyan/csvfolder/{latest}',\n",
    "                   encoding='iso-8859-15',\n",
    "                   sep=';',\n",
    "                   decimal=',',\n",
    "                  )"
   ]
  },
  {
   "cell_type": "code",
   "execution_count": 5,
   "id": "144505bd-37bc-42df-b112-428dff1fad16",
   "metadata": {},
   "outputs": [
    {
     "data": {
      "text/html": [
       "<div>\n",
       "<style scoped>\n",
       "    .dataframe tbody tr th:only-of-type {\n",
       "        vertical-align: middle;\n",
       "    }\n",
       "\n",
       "    .dataframe tbody tr th {\n",
       "        vertical-align: top;\n",
       "    }\n",
       "\n",
       "    .dataframe thead th {\n",
       "        text-align: right;\n",
       "    }\n",
       "</style>\n",
       "<table border=\"1\" class=\"dataframe\">\n",
       "  <thead>\n",
       "    <tr style=\"text-align: right;\">\n",
       "      <th></th>\n",
       "      <th>Id</th>\n",
       "      <th>AccountId</th>\n",
       "      <th>AccountName</th>\n",
       "      <th>AccountType</th>\n",
       "      <th>Date</th>\n",
       "      <th>Description</th>\n",
       "      <th>OriginalDescription</th>\n",
       "      <th>MainCategoryId</th>\n",
       "      <th>MainCategoryName</th>\n",
       "      <th>CategoryId</th>\n",
       "      <th>...</th>\n",
       "      <th>Balance</th>\n",
       "      <th>CounterEntryId</th>\n",
       "      <th>Comment</th>\n",
       "      <th>Tags</th>\n",
       "      <th>Extraordinary</th>\n",
       "      <th>SplitGroupId</th>\n",
       "      <th>CustomDate</th>\n",
       "      <th>Currency</th>\n",
       "      <th>OriginalAmount</th>\n",
       "      <th>OriginalCurrency</th>\n",
       "    </tr>\n",
       "  </thead>\n",
       "  <tbody>\n",
       "    <tr>\n",
       "      <th>0</th>\n",
       "      <td>111</td>\n",
       "      <td>1</td>\n",
       "      <td>A</td>\n",
       "      <td>Consumption</td>\n",
       "      <td>25-11-2001</td>\n",
       "      <td>REMA 1000----</td>\n",
       "      <td>DK-NOTA---- REMA 1000----</td>\n",
       "      <td>14</td>\n",
       "      <td>KontoA</td>\n",
       "      <td>132</td>\n",
       "      <td>...</td>\n",
       "      <td>9019.21</td>\n",
       "      <td>NaN</td>\n",
       "      <td>NaN</td>\n",
       "      <td>NaN</td>\n",
       "      <td>No</td>\n",
       "      <td>NaN</td>\n",
       "      <td>NaN</td>\n",
       "      <td>DKK</td>\n",
       "      <td>-100.20</td>\n",
       "      <td>DKK</td>\n",
       "    </tr>\n",
       "    <tr>\n",
       "      <th>1</th>\n",
       "      <td>112</td>\n",
       "      <td>1</td>\n",
       "      <td>A</td>\n",
       "      <td>Consumption</td>\n",
       "      <td>25-11-2001</td>\n",
       "      <td>Bilka----</td>\n",
       "      <td>MC debit kï¿œb Bilka----</td>\n",
       "      <td>14</td>\n",
       "      <td>KontoA</td>\n",
       "      <td>132</td>\n",
       "      <td>...</td>\n",
       "      <td>9336.41</td>\n",
       "      <td>NaN</td>\n",
       "      <td>NaN</td>\n",
       "      <td>NaN</td>\n",
       "      <td>No</td>\n",
       "      <td>NaN</td>\n",
       "      <td>NaN</td>\n",
       "      <td>DKK</td>\n",
       "      <td>-100.12</td>\n",
       "      <td>DKK</td>\n",
       "    </tr>\n",
       "    <tr>\n",
       "      <th>2</th>\n",
       "      <td>113</td>\n",
       "      <td>1</td>\n",
       "      <td>A</td>\n",
       "      <td>Consumption</td>\n",
       "      <td>25-11-2001</td>\n",
       "      <td>REMA 1000----</td>\n",
       "      <td>DK-NOTA---- REMA 1000----</td>\n",
       "      <td>14</td>\n",
       "      <td>KontoA</td>\n",
       "      <td>132</td>\n",
       "      <td>...</td>\n",
       "      <td>9706.53</td>\n",
       "      <td>NaN</td>\n",
       "      <td>NaN</td>\n",
       "      <td>NaN</td>\n",
       "      <td>No</td>\n",
       "      <td>NaN</td>\n",
       "      <td>24-11-2001</td>\n",
       "      <td>DKK</td>\n",
       "      <td>-130.95</td>\n",
       "      <td>DKK</td>\n",
       "    </tr>\n",
       "  </tbody>\n",
       "</table>\n",
       "<p>3 rows × 24 columns</p>\n",
       "</div>"
      ],
      "text/plain": [
       "    Id  AccountId AccountName  AccountType        Date    Description  \\\n",
       "0  111          1           A  Consumption  25-11-2001  REMA 1000----   \n",
       "1  112          1           A  Consumption  25-11-2001      Bilka----   \n",
       "2  113          1           A  Consumption  25-11-2001  REMA 1000----   \n",
       "\n",
       "         OriginalDescription  MainCategoryId MainCategoryName  CategoryId  \\\n",
       "0  DK-NOTA---- REMA 1000----              14           KontoA         132   \n",
       "1   MC debit kï¿œb Bilka----              14           KontoA         132   \n",
       "2  DK-NOTA---- REMA 1000----              14           KontoA         132   \n",
       "\n",
       "   ...  Balance CounterEntryId Comment  Tags  Extraordinary  SplitGroupId  \\\n",
       "0  ...  9019.21            NaN     NaN   NaN             No           NaN   \n",
       "1  ...  9336.41            NaN     NaN   NaN             No           NaN   \n",
       "2  ...  9706.53            NaN     NaN   NaN             No           NaN   \n",
       "\n",
       "   CustomDate  Currency OriginalAmount  OriginalCurrency  \n",
       "0         NaN       DKK        -100.20               DKK  \n",
       "1         NaN       DKK        -100.12               DKK  \n",
       "2  24-11-2001       DKK        -130.95               DKK  \n",
       "\n",
       "[3 rows x 24 columns]"
      ]
     },
     "execution_count": 5,
     "metadata": {},
     "output_type": "execute_result"
    }
   ],
   "source": [
    "# Print data structure for sanity check\n",
    "data"
   ]
  },
  {
   "cell_type": "code",
   "execution_count": 6,
   "id": "521aa416-eee1-47f5-b29d-43e65f03fcc6",
   "metadata": {},
   "outputs": [],
   "source": [
    "# authorize to open document\n",
    "#gc = gspread.service_account(filename='/home/jovyan/csvfolder/your.json')"
   ]
  },
  {
   "cell_type": "code",
   "execution_count": 7,
   "id": "5baccc1f-fe44-49fa-913d-500ffb49986b",
   "metadata": {},
   "outputs": [],
   "source": [
    "# open regnskabet\n",
    "#gc.list_spreadsheet_files()\n",
    "\n",
    "# open the sheet\n",
    "#regnskab = gc.open('Potten Regnskab')"
   ]
  },
  {
   "cell_type": "code",
   "execution_count": 8,
   "id": "4fde3e71-a0e8-436b-9dcd-b29cd16282ba",
   "metadata": {},
   "outputs": [],
   "source": [
    "# select the correct sheet\n",
    "#poster = regnskab.worksheet('Poster_public')"
   ]
  },
  {
   "cell_type": "code",
   "execution_count": 9,
   "id": "d6e9a880-13d5-4502-85ff-55d826b9a66d",
   "metadata": {},
   "outputs": [],
   "source": [
    "# offload data...\n",
    "#set_with_dataframe(poster, data)"
   ]
  },
  {
   "cell_type": "code",
   "execution_count": null,
   "id": "d3546992-fbae-4cc2-8c88-b09e4ada528e",
   "metadata": {},
   "outputs": [],
   "source": []
  }
 ],
 "metadata": {
  "kernelspec": {
   "display_name": "Python 3 (ipykernel)",
   "language": "python",
   "name": "python3"
  },
  "language_info": {
   "codemirror_mode": {
    "name": "ipython",
    "version": 3
   },
   "file_extension": ".py",
   "mimetype": "text/x-python",
   "name": "python",
   "nbconvert_exporter": "python",
   "pygments_lexer": "ipython3",
   "version": "3.9.12"
  }
 },
 "nbformat": 4,
 "nbformat_minor": 5
}
